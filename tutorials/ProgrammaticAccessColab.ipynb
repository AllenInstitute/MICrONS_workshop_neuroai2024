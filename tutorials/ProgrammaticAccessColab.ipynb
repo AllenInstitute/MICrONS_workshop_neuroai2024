{
 "cells": [
  {
   "cell_type": "markdown",
   "id": "7dadfb64-24d5-4b02-9b9d-730cc91dee89",
   "metadata": {},
   "source": [
    "# Programmatic access to the MICrONS dataset using CAVE\n",
    "\n",
    "This tutorial walks through the key functions needed to access the MICrONS dataset programmatically and highlights key resources within it. This tutorial is written for the MICrONS dataset specifically, but note that the underlying technology (CAVE) is being used for multiple connectomics dataset.\n",
    "\n",
    "This tutorial is designed to be run in Google Colab. Some adjustments should be made if run locally, mostly around installation and authentication — see [CAVEclient documentation](https://caveconnectome.github.io/CAVEclient/) for more information."
   ]
  },
  {
   "cell_type": "markdown",
   "id": "328e2185-074f-44d3-a6fc-9991d79ff70d",
   "metadata": {},
   "source": [
    "## CAVEclient and setup\n",
    "\n",
    "The CAVEclient is a python library that facilitates communication with a CAVE system. It can be installed with `pip`."
   ]
  },
  {
   "cell_type": "code",
   "execution_count": null,
   "id": "eb7409c9-646d-471a-b6af-dc5db348927a",
   "metadata": {},
   "outputs": [],
   "source": [
    "# Run to install caveclient in your colab instance\n",
    "!pip install caveclient"
   ]
  },
  {
   "cell_type": "markdown",
   "id": "ec085a94-a604-4a06-b68e-d221035551c1",
   "metadata": {},
   "source": [
    "and imported as usual:"
   ]
  },
  {
   "cell_type": "code",
   "execution_count": null,
   "id": "a3623131-5ba7-4044-b22a-c7933c7ab0cf",
   "metadata": {},
   "outputs": [],
   "source": [
    "import caveclient"
   ]
  },
  {
   "cell_type": "markdown",
   "id": "87372f96-3fff-41d6-98ff-6862f6189b42",
   "metadata": {},
   "source": [
    "## CAVE account setup"
   ]
  },
  {
   "cell_type": "markdown",
   "id": "399acdc6-5f19-4424-87d1-622075664be5",
   "metadata": {},
   "source": [
    "Each and every user needs to create a CAVE account and download a user token to access CAVE's services programmatically fully in order to manage server traffic.\n",
    "The CAVE infrastructure can be read about in more detail on our [preprint](https://www.biorxiv.org/content/10.1101/2023.07.26.550598v1).\n",
    "The MICrONS data is publicly available which means that no extra permissions need to be given to a new user account to access the data.\n",
    "Bulk downloads of some static data are also available without an account on [MICrONs Explorer](https://microns-explorer.org/).\n",
    "\n",
    "A Google account (or Google-enabled account) is required to create a CAVE account.\n",
    "\n",
    "### Start here if you do not have a CAVE account or are not sure\n",
    "\n",
    "Login to CAVE to setup a new account. To do this go to this [website](https://minnie.microns-daf.com/materialize/views/datastack/minnie65_public).\n",
    "\n",
    "### Once you have an account: Setup your token\n",
    "\n",
    "Create a new token by running the next cell. Then, copy the token and insert it into the argument of the following cell. These two cells should be redone together to make sure that the correct token is stored on your machine. You can copy your token and store on as many machines as you like. If you think your token has been compromised just reset it but rerunning the following cell."
   ]
  },
  {
   "cell_type": "code",
   "execution_count": null,
   "id": "ded74cc5-e88e-49eb-8eaa-2c2ea20ab287",
   "metadata": {},
   "outputs": [],
   "source": [
    "client = caveclient.CAVEclient()\n",
    "client.auth.setup_token(make_new=True)"
   ]
  },
  {
   "cell_type": "markdown",
   "id": "9192913b-5dca-46cd-b581-e2c5e1b7a090",
   "metadata": {},
   "source": [
    "### Set or save your token\n",
    "\n",
    "From the website that just opened up, paste your token here:"
   ]
  },
  {
   "cell_type": "code",
   "execution_count": null,
   "id": "c58efca8-a4af-4c9b-8c03-1fa69d661a6b",
   "metadata": {},
   "outputs": [],
   "source": [
    "my_token = \"PASTE_TOKEN_HERE\""
   ]
  },
  {
   "cell_type": "markdown",
   "id": "48e16d17-fd94-48ff-bf8b-3e41bab3134f",
   "metadata": {},
   "source": [
    "Were you to run this on your local machine, you should save the token so it will be loaded automatically in the future.\n",
    "\n",
    "```python\n",
    "client.auth.save_token(token=my_token, overwrite=True)\n",
    "```"
   ]
  },
  {
   "cell_type": "markdown",
   "id": "fa57550b-0343-4736-ac07-c64d1eff0759",
   "metadata": {},
   "source": [
    "## Libraries for this notebook"
   ]
  },
  {
   "cell_type": "markdown",
   "id": "a9579595-85f0-4937-af27-329e45cef9ed",
   "metadata": {},
   "source": [
    "This notebook makes use of a few python libraries for analysis and visualization. These are installed by default in Colab, but if you are running this notebook locally, you may need to install them via pip."
   ]
  },
  {
   "cell_type": "code",
   "execution_count": null,
   "id": "b34c0612-8e2a-4ab3-a7dc-194021881ef6",
   "metadata": {},
   "outputs": [],
   "source": [
    "import pandas as pd\n",
    "import seaborn as sns\n",
    "import numpy as np\n",
    "from matplotlib import pyplot as plt"
   ]
  },
  {
   "cell_type": "markdown",
   "id": "efc7b5ab-98d3-4fb5-a3b2-631e92e7522f",
   "metadata": {},
   "source": [
    "## Initialize CAVEclient with a datastack"
   ]
  },
  {
   "cell_type": "markdown",
   "id": "4d332906-423f-4718-892f-00aa0bbe1661",
   "metadata": {},
   "source": [
    "Datasets in CAVE are organized as datastacks. These are a combination of an EM dataset, a segmentation and a set of annotations. The datastack for MICrONS public release is `minnie65_public`. When you instantiate your client with this datastack, it loads all relevant information to access it."
   ]
  },
  {
   "cell_type": "code",
   "execution_count": null,
   "id": "e7525717-b2e4-483c-80ae-ce21bfbaa083",
   "metadata": {},
   "outputs": [],
   "source": [
    "datastack_name = \"minnie65_public\"\n",
    "client = caveclient.CAVEclient(datastack_name, auth_token=my_token)"
   ]
  },
  {
   "cell_type": "markdown",
   "id": "d956f8dc-f77d-4a67-bfba-a73fbbc7183b",
   "metadata": {},
   "source": [
    "## Materialization versions\n"
   ]
  },
  {
   "cell_type": "markdown",
   "id": "e60699f8-31bd-4b89-8cdc-702a136e8231",
   "metadata": {},
   "source": [
    "Queries to the database for properties like synapses, cell types, and proofreading status are stored in a CAVE database.\n",
    "All data in CAVE is timestamped for complete reproducibility. For convenience, data is periodically \"materialized\", where a copy of the database is stored at a specific timestamp and assigned a \"version\" number. Roughly quarterly, a permanent materialization version is released as the latest public version.\n",
    "\n",
    "The various CAVEclient functions related to querying these materialized databases are available under `client.materialize`. \n",
    "\n",
    "For example, to see which versions are available:"
   ]
  },
  {
   "cell_type": "code",
   "execution_count": null,
   "id": "f0a1d862-60c8-45ab-a737-f9bf006ae3cf",
   "metadata": {},
   "outputs": [],
   "source": [
    "client.materialize.get_versions()"
   ]
  },
  {
   "cell_type": "markdown",
   "id": "0b4dbcf0-b055-4084-bde6-d6b932cf1c30",
   "metadata": {},
   "source": [
    "And these are their associated timestamps (all timestamps are in UTC time zone):"
   ]
  },
  {
   "cell_type": "code",
   "execution_count": null,
   "id": "33f3693b-5904-4d9b-a6ee-ee5aecbfde66",
   "metadata": {},
   "outputs": [],
   "source": [
    "for version in client.materialize.get_versions():\n",
    "    print(f\"Version {version}: {client.materialize.get_timestamp(version)}\")"
   ]
  },
  {
   "cell_type": "markdown",
   "id": "b23f00a7-90de-4e13-82d2-e8136b800698",
   "metadata": {},
   "source": [
    "The client will automatically query the latest materialization version, but note that you can specify a `materialization_version` for every query if you want to access a specific version."
   ]
  },
  {
   "cell_type": "markdown",
   "id": "983c3336-b159-4572-a633-4e1996a4302b",
   "metadata": {},
   "source": [
    "## Tables and generally useful information"
   ]
  },
  {
   "cell_type": "markdown",
   "id": "2acdcbfe-e4cc-4cd8-9841-159c754ab087",
   "metadata": {},
   "source": [
    "A datastack has a large number of tables that can be intimidating to traverse at first. CAVE provides several ways to find the tables you may want use. To print all tables that are available run:"
   ]
  },
  {
   "cell_type": "code",
   "execution_count": null,
   "id": "04d0290f-f743-4449-a8ed-48dd8f73c02a",
   "metadata": {},
   "outputs": [],
   "source": [
    "client.materialize.get_tables()"
   ]
  },
  {
   "cell_type": "markdown",
   "id": "939a70c1-4677-4ce2-ae29-c6a20554bd22",
   "metadata": {},
   "source": [
    "For each datastack, CAVE stores information about key data sources and parameters. These can be accessed through:"
   ]
  },
  {
   "cell_type": "code",
   "execution_count": null,
   "id": "d011f73b-17cc-42d3-aef1-8d690d8edf28",
   "metadata": {},
   "outputs": [],
   "source": [
    "client.info.get_datastack_info()"
   ]
  },
  {
   "cell_type": "markdown",
   "id": "e5d08f51-8740-45ff-af02-59e5ff2c8477",
   "metadata": {},
   "source": [
    "For instance, the table with synapses is named `synapses_pni_2` and table with one entry per cell body (i.e. soma) is named `nucleus_detection_v0`. "
   ]
  },
  {
   "cell_type": "markdown",
   "id": "d9b75dbc-056d-4dbe-bdc7-77e62b14598c",
   "metadata": {},
   "source": [
    "## Query 1: Querying cells and their types"
   ]
  },
  {
   "cell_type": "markdown",
   "id": "e068cde8-8336-45b4-aaf9-49157971f160",
   "metadata": {},
   "source": [
    "### Querying cell bodies"
   ]
  },
  {
   "cell_type": "markdown",
   "id": "57b364ce-176c-4562-8d90-a4425ec7e6e1",
   "metadata": {},
   "source": [
    "The basic querying function for CAVE is `client.materialize.query_table`. This accepts a table name as the only required parameter and optionally some filters. Let's query the table of all automatically segmented nuclei:"
   ]
  },
  {
   "cell_type": "code",
   "execution_count": null,
   "id": "a1e79e8e-2ef3-468b-8af2-b5a824eb94c1",
   "metadata": {},
   "outputs": [],
   "source": [
    "nucleus_table_name = client.info.get_datastack_info()[\"soma_table\"] # We just saw that this should be `nucleus_detection_v0`\n",
    "nucleus_df = client.materialize.query_table(nucleus_table_name)\n",
    "nucleus_df.head(5)"
   ]
  },
  {
   "cell_type": "markdown",
   "id": "4f46c5c9-7165-4eb5-b742-34a5adb5119c",
   "metadata": {},
   "source": [
    "Every annotation table has at least one position column (here: `pt_position`) which serves as anchor to the segmentation. These positions are automatically associated to the segmentation using `pt_root_id`s which can be thought of segment or cell IDs. Beyond positions and their associated IDs, every table stores metadata. For instance, the nucleus table contains the `volume` of each cell body. Note that `pt_root_id=0` is a special value indicating that the point position does not have a segmentation. This can happen if it is on the edge of the imagery or on top of a masked-out image artifact.\n",
    "\n",
    "Every table has a description and metadata attached to it that describes how the data was generated, limitations of it, and papers to cite when using it:"
   ]
  },
  {
   "cell_type": "code",
   "execution_count": null,
   "id": "22846a72-1ff1-4317-a6db-6a9c60042892",
   "metadata": {},
   "outputs": [],
   "source": [
    "client.materialize.get_table_metadata(nucleus_table_name)"
   ]
  },
  {
   "cell_type": "markdown",
   "id": "257a0ecf-ca0a-41d3-8475-9b244c75a28d",
   "metadata": {},
   "source": [
    "### Location vs depth\n",
    "\n",
    "As a first analysis, we will plot the depth location vs the size of each cell nucleus. `query_table` has additional parameters to modify the results and standardize returns that make such an analysis easier. Using `desired_resolution` the resolution of all position columns can be defined in nanometers (thus 1000 = 1 µm). Using `split_positions`, The x, y, and z position columns are separated."
   ]
  },
  {
   "cell_type": "code",
   "execution_count": null,
   "id": "bef327d8-4096-47ce-b8d5-f33492155c51",
   "metadata": {},
   "outputs": [],
   "source": [
    "nucleus_df = client.materialize.query_table(nucleus_table_name, desired_resolution=[1000, 1000, 1000], split_positions=True)\n",
    "nucleus_df.head(5)"
   ]
  },
  {
   "cell_type": "markdown",
   "id": "ff18cb79-ee28-43aa-9940-bdf5a8a1f673",
   "metadata": {},
   "source": [
    "Note that `y` is approximately along the depth axis here, increasing with deeper locations. There is a small tilt (roughly 5 degrees), and information about how to adjust for this tilt and align y=0 with the pial surface can be found [in the microns tutorial](https://alleninstitute.github.io/microns_tutorial/programmatic_access/em_py_07_coordinates.html)"
   ]
  },
  {
   "cell_type": "code",
   "execution_count": null,
   "id": "555abccc-5b50-4878-8442-6ae887517a15",
   "metadata": {},
   "outputs": [],
   "source": [
    "fig, ax = plt.subplots(figsize=(6, 6))\n",
    "ax.tick_params(labelsize=14)\n",
    "sns.scatterplot(data=nucleus_df, x=\"volume\", y=\"pt_position_y\", size=1, edgecolor=None, alpha=.01, color=\"k\", ax=ax, legend=False)\n",
    "ax.invert_yaxis()\n",
    "ax.set_xlabel(\"Volume ($\\mu m^3$)\", fontsize=16)\n",
    "ax.set_ylabel(\"Depth ($\\mu m$)\", fontsize=16)\n",
    "ax.set_xlim(0, 500)\n",
    "plt.show()"
   ]
  },
  {
   "cell_type": "markdown",
   "id": "e6b43f1f-260a-48db-92da-254ba884da5f",
   "metadata": {},
   "source": [
    "### Querying cell type information "
   ]
  },
  {
   "cell_type": "markdown",
   "id": "f55c6b83-1b9d-46c5-9a1c-d3bb1c532236",
   "metadata": {},
   "source": [
    "There are two distinct ways cell types were classified in the MICrONS dataset: manual and automated. Manual annotations are available for ~1,300 neurons (`allen_v1_column_types_slanted_ref`), automated classifications are available for all cell bodies based on these manual annotations (`aibs_metamodel_celltypes_v661`). Because they are annotating an existing annotations, these annotations are introduced as a \"reference\" table:"
   ]
  },
  {
   "cell_type": "code",
   "execution_count": null,
   "id": "345972d3-99c7-405e-906b-7ec21db65282",
   "metadata": {},
   "outputs": [],
   "source": [
    "ct_df = client.materialize.query_table(\"aibs_metamodel_celltypes_v661\", desired_resolution=[1000, 1000, 1000], split_positions=True,\n",
    "                                       merge_reference=False)\n",
    "\n",
    "ct_df.head(5)"
   ]
  },
  {
   "cell_type": "markdown",
   "id": "0ab1ca15-0f95-404b-a5f5-2532c336f6bd",
   "metadata": {},
   "source": [
    "Reference annotations contain `target_id` to merge them onto the table they target (here: the nucleus table). But do not worry, CAVE automatically merges them onto their target table by default (`merge_reference=True`):"
   ]
  },
  {
   "cell_type": "code",
   "execution_count": null,
   "id": "505abc6c-71de-4f37-b372-b0d845679303",
   "metadata": {},
   "outputs": [],
   "source": [
    "ct_df = client.materialize.query_table(\"aibs_metamodel_celltypes_v661\", desired_resolution=[1000, 1000, 1000], split_positions=True)\n",
    "# remove segments with merged cell bodies — these are generally rare\n",
    "ct_df = ct_df.drop_duplicates(\"pt_root_id\", keep=False)\n",
    "ct_df.head(5)"
   ]
  },
  {
   "cell_type": "markdown",
   "id": "0378ff72-f312-4ff3-8f21-a6ec7ad3a0e8",
   "metadata": {},
   "source": [
    "The reference table added two additional data columns: `classification_system` and `cell_type`. The `classification_system` divides the cells into excitatitory and inhibitory neurons as well as non-neuronal cells. `cell_type` provides lower level cell annotations."
   ]
  },
  {
   "cell_type": "code",
   "execution_count": null,
   "id": "d108ea36-8b8c-428f-8019-1c55d4f0d552",
   "metadata": {},
   "outputs": [],
   "source": [
    "ct_df[\"classification_system\"].value_counts()"
   ]
  },
  {
   "cell_type": "code",
   "execution_count": null,
   "id": "cf70a190-a294-429e-8555-0c35f9f54e71",
   "metadata": {},
   "outputs": [],
   "source": [
    "ct_df[\"cell_type\"].value_counts()"
   ]
  },
  {
   "cell_type": "markdown",
   "id": "f4ec4091-d0aa-4b9d-a855-fac176774bb7",
   "metadata": {},
   "source": [
    "### Location vs depth + Cell type\n"
   ]
  },
  {
   "cell_type": "markdown",
   "id": "ea00793c-ac9d-4ef9-95f4-0826031ebf54",
   "metadata": {},
   "source": [
    "Because the cell type table contains the information about the nuclei, we can use it to plot the locations of all cell bodies as well and label them by type."
   ]
  },
  {
   "cell_type": "code",
   "execution_count": null,
   "id": "748f0bfe-8abb-460e-99b9-e3ccdd5e017f",
   "metadata": {},
   "outputs": [],
   "source": [
    "fig, ax = plt.subplots(figsize=(6, 6))\n",
    "ax.tick_params(labelsize=14)\n",
    "sns.scatterplot(\n",
    "    data=ct_df,\n",
    "    x=\"volume\",\n",
    "    y=\"pt_position_y\",\n",
    "    s=5,\n",
    "    edgecolor=None,\n",
    "    alpha=.15,\n",
    "    color=\"k\",\n",
    "    ax=ax, \n",
    "    legend=True,\n",
    "    hue=\"classification_system\",\n",
    ")\n",
    "\n",
    "ax.invert_yaxis()\n",
    "ax.set_xlabel(\"Volume ($\\mu m^3$)\", fontsize=16)\n",
    "ax.set_ylabel(\"Depth ($\\mu m$)\", fontsize=16)\n",
    "ax.set_xlim(0, 500)\n",
    "\n",
    "leg = plt.legend()\n",
    "for lh in leg.legend_handles: \n",
    "    lh.set_alpha(1)\n",
    "\n",
    "plt.show()"
   ]
  },
  {
   "cell_type": "markdown",
   "id": "ea42fdf3-6af2-49b8-8668-b0237f53659f",
   "metadata": {},
   "source": [
    "## Query 2: Querying synapses and proofread neurons"
   ]
  },
  {
   "cell_type": "markdown",
   "id": "fe50dee4-480b-4bad-8f2c-7dbc10765f87",
   "metadata": {},
   "source": [
    "### Proofread neurons\n",
    "\n",
    "Proofreading is necessary to obtain accurate reconstructions of a cell. In the MICrONS dataset, the general rule is that dendrites onto cells with a cell body are sufficiently proofread to trust synaptic connections onto a cell. Axons on the other hand require so much proofread that only ~1,000 cells have proofread axons for which outputs can be used for analysis.\n",
    "\n",
    "The table `proofreading_status_and_strategy` contains proofreading information about ~1,200 neurons. Axon annotations `status_axon = \"t\"` and `clean` can be used for analysis. We can obtain such cells by adding a filter to our query:"
   ]
  },
  {
   "cell_type": "code",
   "execution_count": null,
   "id": "504fe017-cdf8-47cb-a7bb-a958f4245675",
   "metadata": {},
   "outputs": [],
   "source": [
    "proof_all_df = client.materialize.query_table(\"proofreading_status_and_strategy\")"
   ]
  },
  {
   "cell_type": "code",
   "execution_count": null,
   "id": "c8343aa2",
   "metadata": {},
   "outputs": [],
   "source": [
    "proof_all_df[\"strategy_axon\"].value_counts()"
   ]
  },
  {
   "cell_type": "code",
   "execution_count": null,
   "id": "ee6a4e2a-f416-4fbd-a5c7-a4c8540f3da7",
   "metadata": {},
   "outputs": [],
   "source": [
    "proof_df = client.materialize.query_table(\"proofreading_status_and_strategy\", filter_in_dict={\"strategy_axon\": [\"axon_partially_extended\", \"axon_fully_extended\", \"axon_interareal\"]})\n",
    "proof_df"
   ]
  },
  {
   "cell_type": "code",
   "execution_count": null,
   "id": "77b7df65-9e0f-4f7b-8db2-d900b27a8480",
   "metadata": {},
   "outputs": [],
   "source": [
    "root_id = 864691135808684573\n",
    "client.chunkedgraph.get_tabular_change_log(root_id)[root_id]"
   ]
  },
  {
   "cell_type": "markdown",
   "id": "654f3bbb-9b3e-44ca-8139-0e001b078591",
   "metadata": {},
   "source": [
    "### Synapse query"
   ]
  },
  {
   "cell_type": "markdown",
   "id": "fcba9ad7-6259-430f-95b2-a55d02a9051a",
   "metadata": {},
   "source": [
    "The MICrONS dataset relies on automatically detected synapses for connectivity information. The consortium automatically detected and associated a total of 337 million synaptic clefts. The detections were evaluated by manually identifying synapses in 70 small subvolumes (n=8,611 synapses) distributed across the dataset, giving the automated detection an estimated precision of 96% and recall of 89% with a partner assignment accuracy of 98%.\n",
    "\n",
    "We can query the synapse table directly. However, it is too large to query all at once. CAVE limits to queries to 500,000 rows at once and will display a warning when that happens. Here, we demonstrate this with the limit set to 10:"
   ]
  },
  {
   "cell_type": "code",
   "execution_count": null,
   "id": "6a9c2607-441d-4326-845f-a0a827aaaa31",
   "metadata": {},
   "outputs": [],
   "source": [
    "synapse_table_name = client.info.get_datastack_info()[\"synapse_table\"]\n",
    "syn_df = client.materialize.query_table(synapse_table_name, limit=10)\n",
    "syn_df"
   ]
  },
  {
   "cell_type": "markdown",
   "id": "989a2b9e-bf2a-4226-934b-f1c6266fa617",
   "metadata": {},
   "source": [
    "Instead we need to limit our query to a few neurons. We can query the graph spanned by the neurons with \"clean\" axons using the `filter_in_dict` parameter:"
   ]
  },
  {
   "cell_type": "code",
   "execution_count": null,
   "id": "279cb2aa-f098-48b5-9a59-7f44e216c1a6",
   "metadata": {},
   "outputs": [],
   "source": [
    "%%time \n",
    "\n",
    "synapse_table_name = client.info.get_datastack_info()[\"synapse_table\"]\n",
    "syn_df = client.materialize.query_table(synapse_table_name, \n",
    "                                        filter_in_dict={\"pre_pt_root_id\": proof_df[\"pt_root_id\"], \n",
    "                                                        \"post_pt_root_id\": proof_df[\"pt_root_id\"]})\n",
    "\n",
    "# remove internal synapses — almost entirely false detections\n",
    "syn_df = syn_df[syn_df[\"pre_pt_root_id\"] != syn_df[\"post_pt_root_id\"]]\n",
    "syn_df"
   ]
  },
  {
   "cell_type": "code",
   "execution_count": null,
   "id": "9cb10c3f",
   "metadata": {},
   "outputs": [],
   "source": [
    "syn_df = client.materialize.synapse_query(pre_ids= proof_df[\"pt_root_id\"], post_ids=proof_df[\"pt_root_id\"])\n",
    "syn_df"
   ]
  },
  {
   "cell_type": "markdown",
   "id": "c2cb8ebe-23a9-463c-a7d4-d3faa5f930b8",
   "metadata": {},
   "source": [
    "Compared to the nucleus table, the synapse table has two points which were associated with segments (`pre_pt_position` and `post_pt_position`). The associated root ID columns are `pre_pt_root_id` and `post_pt_root_id`. "
   ]
  },
  {
   "cell_type": "markdown",
   "id": "3f4df7d5-227e-41f1-99f3-371c50b587ec",
   "metadata": {},
   "source": [
    "Using pandas pivot function, we can transform this table into a matrix and plot it:"
   ]
  },
  {
   "cell_type": "code",
   "execution_count": null,
   "id": "ad1124e2-0087-43dd-8bf4-b61e20eee409",
   "metadata": {},
   "outputs": [],
   "source": [
    "syn_mat = syn_df.pivot_table(index=\"pre_pt_root_id\", columns=\"post_pt_root_id\", values=\"size\", aggfunc=\"sum\")\n",
    "\n",
    "# Squaring the matrix\n",
    "syn_mat = syn_mat.reindex(columns=syn_mat.index)"
   ]
  },
  {
   "cell_type": "code",
   "execution_count": null,
   "id": "2f6d9f12-0bf0-46a8-8d27-43cabb598858",
   "metadata": {},
   "outputs": [],
   "source": [
    "sns.heatmap(np.log2(syn_mat), cmap=\"magma\", xticklabels=[], yticklabels=[])\n",
    "plt.show()"
   ]
  },
  {
   "cell_type": "markdown",
   "id": "3f5980cc-c335-41b3-b327-cb3e03c28601",
   "metadata": {},
   "source": [
    "## Query 3 - Functional properties"
   ]
  },
  {
   "cell_type": "markdown",
   "id": "58329fc9-d0e1-44c3-8392-5b818d741819",
   "metadata": {},
   "source": [
    "Before acquiring the EM dataset, the activity of the cells in the same region was recorded using calcium imaging (excitatory neurons only). Joint analysis of the connectivity and functional data is possible for neurons that have been coregistered between the two datasets. Currently there are 10,630 such neurons, some of them were imaged in multiple sessions. \n",
    "\n",
    "The raw fluoresence traces of all neurons (also available as spiketrain) can be access via DANDI: https://dandiarchive.org/dandiset/000402. The fluoresence files are large but DANDI supports streaming via the `dandi` and `pynwb` python packages. The coregistration is stored in the table `coregistration_manual_v3` but currently extra information from [this csv](https://github.com/sdorkenw/MICrONS_workshop/blob/main/data/functional_coreg_unit_lookup_all_sessions.csv) is required to complete the matching to the DANDI archive.\n",
    "\n",
    "Here, we will skip the access to the functional traces and instead work with extracted functional properties of these neurons. The table `functional_properties_v3_bcm` contains functional properties as outlined in the description:"
   ]
  },
  {
   "cell_type": "code",
   "execution_count": null,
   "id": "430703c9-c5ab-4e17-967d-c21cc5c5030d",
   "metadata": {},
   "outputs": [],
   "source": [
    "print(client.materialize.get_table_metadata(\"functional_properties_v3_bcm\")[\"description\"])"
   ]
  },
  {
   "cell_type": "code",
   "execution_count": null,
   "id": "f6085d19-ff96-4c46-94f1-2e5b3ebafb9c",
   "metadata": {},
   "outputs": [],
   "source": [
    "func_df = client.materialize.query_table(\"functional_properties_v3_bcm\")\n",
    "func_df = func_df.drop_duplicates(\"pt_root_id\", keep=\"first\")\n",
    "func_df"
   ]
  },
  {
   "cell_type": "code",
   "execution_count": null,
   "id": "ce536e53-0069-4d9c-969d-8b67f2ad75fa",
   "metadata": {},
   "outputs": [],
   "source": [
    "sns.histplot(data=func_df, x=\"gDSI\")"
   ]
  },
  {
   "cell_type": "code",
   "execution_count": null,
   "id": "1648f794-d53b-4bd6-8e3e-f181f1a81c8d",
   "metadata": {},
   "outputs": [],
   "source": [
    "sns.histplot(data=func_df[func_df[\"gDSI\"] > .05], x=\"pref_dir\")"
   ]
  },
  {
   "cell_type": "markdown",
   "id": "0dd5d2aa",
   "metadata": {},
   "source": [
    "Now we can do something fun and link synaptic connectivity information with functional properties. Let's query the targets of a neuron with a lot of synapses and plot their functional properties."
   ]
  },
  {
   "cell_type": "markdown",
   "id": "0a82a3c1",
   "metadata": {},
   "source": [
    "syn_df.value_counts('pre_pt_root_id').head(20)"
   ]
  },
  {
   "cell_type": "code",
   "execution_count": null,
   "id": "7bd2d936",
   "metadata": {},
   "outputs": [],
   "source": [
    "pre_root_id = 864691135594657067\n",
    "cell_syn_df = client.materialize.synapse_query(pre_ids=pre_root_id)\n",
    "\n",
    "cell_syn_func_df = cell_syn_df.merge(\n",
    "    func_df.drop_duplicates('pt_root_id')[['pt_root_id', 'gOSI', 'gDSI', 'pref_ori', 'pref_dir']],\n",
    "    left_on='post_pt_root_id',\n",
    "    right_on='pt_root_id',\n",
    ")"
   ]
  },
  {
   "cell_type": "code",
   "execution_count": null,
   "id": "b3195b5f",
   "metadata": {},
   "outputs": [],
   "source": [
    "sns.histplot(\n",
    "    data=cell_target_func_df.query('gDSI>0.05'),\n",
    "    x=\"pref_dir\",\n",
    "    bins=50,\n",
    "    stat='percent',\n",
    "    color=(0.5,0.7,0.7)a\n",
    ")\n",
    "sns.histplot(\n",
    "    data=func_df[func_df[\"gDSI\"] > .05],\n",
    "    x=\"pref_dir\",\n",
    "    bins=50,\n",
    "    stat='percent',\n",
    "    element='step',\n",
    "    fill=False,\n",
    "    color='r',\n",
    "    linewidth=3\n",
    ")"
   ]
  }
 ],
 "metadata": {
  "kernelspec": {
   "display_name": "Python 3 (ipykernel)",
   "language": "python",
   "name": "python3"
  },
  "language_info": {
   "codemirror_mode": {
    "name": "ipython",
    "version": 3
   },
   "file_extension": ".py",
   "mimetype": "text/x-python",
   "name": "python",
   "nbconvert_exporter": "python",
   "pygments_lexer": "ipython3",
   "version": "3.11.5"
  }
 },
 "nbformat": 4,
 "nbformat_minor": 5
}
