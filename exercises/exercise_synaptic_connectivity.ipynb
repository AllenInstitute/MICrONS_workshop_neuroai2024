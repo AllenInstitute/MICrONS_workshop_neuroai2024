{
 "cells": [
  {
   "cell_type": "markdown",
   "id": "0fb675d3-1356-452a-abcd-b60a80db9e77",
   "metadata": {},
   "source": [
    "# Exercise on synaptic connectivity\n",
    "\n",
    "In this worksheet, we explore ways to query synaptic connectivity from the MICrONS dataset and combine it with cell type annotations and other parameters of cells.\n",
    "\n",
    "This tutorial assumes you have followed the [tutorial for programmatic access](https://github.com/sdorkenw/MICrONS_workshop/blob/main/tutorials/ProgrammaticAccess.ipynb), at least for setting up your CAVE account. "
   ]
  },
  {
   "cell_type": "markdown",
   "id": "32e96532-49d0-42d3-839a-065b34c4e978",
   "metadata": {},
   "source": [
    "## Setup and imports"
   ]
  },
  {
   "cell_type": "code",
   "execution_count": 1,
   "id": "80262dc0-dbde-45a9-bb8b-d8bff95ceda0",
   "metadata": {
    "scrolled": true
   },
   "outputs": [],
   "source": [
    "# !pip install caveclient"
   ]
  },
  {
   "cell_type": "code",
   "execution_count": 2,
   "id": "92590dfe-81e4-4f79-81f5-be36fbf2e9d4",
   "metadata": {},
   "outputs": [],
   "source": [
    "import caveclient\n",
    "\n",
    "import pandas as pd\n",
    "import seaborn as sns\n",
    "import numpy as np\n",
    "from matplotlib import pyplot as plt"
   ]
  },
  {
   "cell_type": "code",
   "execution_count": 3,
   "id": "7db731aa-3b3a-4bf2-b581-962509f9854c",
   "metadata": {},
   "outputs": [],
   "source": [
    "datastack_name = \"minnie65_public\"\n",
    "client = caveclient.CAVEclient(datastack_name)\n",
    "\n",
    "# One can pass the token directly to the client:\n",
    "# my_token = \"your token goes here\"\n",
    "# client = caveclient.CAVEclient(datastack_name, auth_token=my_token)"
   ]
  },
  {
   "cell_type": "markdown",
   "id": "1c27f055-0395-4ae0-8750-5db32e462e3c",
   "metadata": {},
   "source": [
    "## 1. Sorted wiring diagram"
   ]
  },
  {
   "cell_type": "markdown",
   "id": "c7bda846-8989-4792-a0fe-5dbe9542e80d",
   "metadata": {},
   "source": [
    "In the tutorial, we queried the neuronal connectivity but the resulting wiring diagram showed little structure. Here, we want to combine the synaptic connecitivty with cell type classifications (from the table `aibs_metamodel_celltypes_v661`) to sort the wiring diagram. A suggested order of operations is\n",
    "\n",
    "1. Get the proofreading table (`proofreading_status_public_release`)\n",
    "2. Get the cell type table (`aibs_metamodel_celltypes_v661`)\n",
    "3. Join/merge the proofreading table and the cell type table using `pd.merge` on `pt_root_id`\n",
    "4. Lookup the synapses of the entries in the resulting table and create synapse matrix\n",
    "5. Sort the rows and columns of the synapse matrix using the cell type information (see `sort_matrix_by_label()` below)\n",
    "6. Plot using `sns.heatmap`\n",
    "7. Bonus: Plot using `sns.clustermap` without clustering (`row_cluster=False`, `col_cluster=False`) and passing colors to `row_colors` and `col_colors` to indicate the cell types)\n",
    "\n",
    "Tip: The logic for all steps is contained in the tutorial."
   ]
  },
  {
   "cell_type": "code",
   "execution_count": 4,
   "id": "1d0c9fcc-57c0-407d-a1ff-97771ad51b18",
   "metadata": {},
   "outputs": [],
   "source": [
    "def sort_matrix_by_types(mat: pd.DataFrame, \n",
    "                         labels: pd.DataFrame, \n",
    "                         label_type_col: str = \"cell_type\", \n",
    "                         label_id_col: str = \"pt_root_id\"):\n",
    "    \"\"\"Sorts (synapse) matrix by labels.\n",
    "\n",
    "    This function assumes a square synapse matrix!\n",
    "\n",
    "    Args:\n",
    "        mat: synapse matrix as pandas DataFrame\n",
    "        labels: DataFrame with labels, e.g. the output of client.materialize.query_table('aibs_metamodel_celltypes_v661')\n",
    "        label_type_col: column name in labels for cell types\n",
    "        label_id_col: column name in labels for root ids\n",
    "\n",
    "    Returns:\n",
    "        mat_sorted: sorted matrix\n",
    "        mat_labels: sorted labels; has the same length as matrix\n",
    "    \"\"\"\n",
    "    assert mat.shape[0] == mat.shape[1]\n",
    "    \n",
    "    mat_sorted = mat.copy()\n",
    "    \n",
    "    mat_labels = np.array(labels.set_index(label_id_col).loc[mat.index][label_type_col])\n",
    "    sorting = np.argsort(mat_labels)\n",
    "    \n",
    "    mat_sorted = mat_sorted.iloc[sorting].T.iloc[sorting].T\n",
    "\n",
    "    return mat_sorted, mat_labels[sorting]"
   ]
  },
  {
   "cell_type": "markdown",
   "id": "6b01330f-422c-4fa8-9f3a-93b979f1746c",
   "metadata": {},
   "source": [
    "## 2. Distribution of synaptically targeted cell bodies"
   ]
  },
  {
   "cell_type": "markdown",
   "id": "e0977b66-3db4-4f98-9d59-3e92963d0456",
   "metadata": {},
   "source": [
    "So far, we ignored that most neurons in the MICrONS dataset have well reconstructed dendrites (but not necessarily good axons). Here, we will use this feature of the dataset by looking at all the targets of a single neuron and find the soma locations of their postsynaptic targets.\n",
    "\n",
    "First select a neuron to analyze - consider visualizing it in Neuroglancer and DashApss first. We suggest a neuron below but feel free to change that"
   ]
  },
  {
   "cell_type": "code",
   "execution_count": 12,
   "id": "6ed6e9f7-62a5-41c6-9738-d6cf456c377f",
   "metadata": {},
   "outputs": [],
   "source": [
    "root_id = 864691135155894884"
   ]
  },
  {
   "cell_type": "markdown",
   "id": "c49c6f07-417d-497f-9250-06ca6ed98244",
   "metadata": {},
   "source": [
    "The goal is to create a scatter plot that shows the cell body location of all the neurons targeted by our neuron of choice. We will use the synapse and the cell type tables to obtain the necessary information. Join them together to add the information about the postsynaptic cell body location to all synapses.\n",
    "\n",
    "Bonus: Get creative with the annotations in the scatter plot. For instance, use cell types to color the postsynaptic target dots."
   ]
  },
  {
   "cell_type": "markdown",
   "id": "f8c15c13-088a-4cc2-b543-f5e9b03b0cfc",
   "metadata": {},
   "source": [
    "### Bonus exercise: Synapse sorting\n",
    "\n",
    "Synapse sorting describes the effect where different postsynaptic neurons are targeted more proximal or distal to the soma. For instance, multiple studies (e.g. [Schmid et al., 2017](https://www.nature.com/articles/nature24005) Fig. 2, [Dorkenwald, Li et al., 2023](https://www.nature.com/articles/s41592-023-02059-8) Fig. 6k-l) found that pyramidal cells target predominantly inhibitory neurons along their proximal axon and excitatory neurons along their distal axon. These studies used the path length along the soma, but some of the effect can be observed using eucliedian distance between the presynaptic soma and the synapse. \n",
    "\n",
    "Create a histogram of the distances of synapses onto inhibitory targets and one of the distances synapses onto excitatory targets and compare."
   ]
  },
  {
   "cell_type": "markdown",
   "id": "4295fefd-4b23-46f3-a1a9-17f02579dfd3",
   "metadata": {},
   "source": [
    "## 3. Functional connectomics"
   ]
  },
  {
   "cell_type": "markdown",
   "id": "f19268e7-48ba-4388-bbbc-0c11333c4c68",
   "metadata": {},
   "source": [
    "Lastly, we want to relate synaptic connectivity to structural measurements of the cells. This is an open area of analysis but the most common type of analysis is to quantify \"like-to-like\" connectivity. \"Like-to-like\" refers to an effect where neurons with similar properties tend to be more connected. For instance [Ko et al., 2011](https://www.nature.com/articles/nature09880) find that \"We found that connection probability was related to the similarity of visually driven neuronal activity.\" \n",
    "\n",
    "\n",
    "Using difference in preferred direction as a measurement of functional similarity, evaluate whether neurons in the MICrONS dataset exhibit like-to-like connectivity. To make things simpler, consider a null model that uses a randomized version of the synapse table. The effect is likely dependent on cell types; consider only analyzing the connections between `23P` cells first."
   ]
  },
  {
   "cell_type": "code",
   "execution_count": null,
   "id": "c72603b0-9044-4ab8-9238-1c5fcfbb2eb3",
   "metadata": {},
   "outputs": [],
   "source": []
  }
 ],
 "metadata": {
  "kernelspec": {
   "display_name": "Python 3 (ipykernel)",
   "language": "python",
   "name": "python3"
  },
  "language_info": {
   "codemirror_mode": {
    "name": "ipython",
    "version": 3
   },
   "file_extension": ".py",
   "mimetype": "text/x-python",
   "name": "python",
   "nbconvert_exporter": "python",
   "pygments_lexer": "ipython3",
   "version": "3.11.5"
  }
 },
 "nbformat": 4,
 "nbformat_minor": 5
}
